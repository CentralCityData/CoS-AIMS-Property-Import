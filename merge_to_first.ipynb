{
 "cells": [
  {
   "cell_type": "code",
   "execution_count": 69,
   "metadata": {},
   "outputs": [
    {
     "data": {
      "text/plain": [
       "(45766, 16)"
      ]
     },
     "execution_count": 69,
     "metadata": {},
     "output_type": "execute_result"
    }
   ],
   "source": [
    "import pandas as pd\n",
    "\n",
    "old_prop = pd.read_csv(\"./inputs/first_prop_import.tsv\", sep=\"\\t\")\n",
    "new_prop = pd.read_csv(\"./outputs/property_join_tr_new.tsv\", sep=\"\\t\")\n",
    "new_prop[\"parcel_id\"] = new_prop[\"parcel_id_old\"].astype(str)\n",
    "\n",
    "mrg = old_prop.merge(new_prop, on='parcel_id', how='left', suffixes=(\"_old1\", \"_new1\"))\n",
    "# mrg = mrg[~pd.isnull(mrg[\"parcel_id_new\"])]\n",
    "mrg = mrg.drop_duplicates(subset=[\"parcel_id\"], keep=\"first\")\n",
    "mrg.drop([col for col in mrg.columns if \"_old1\" in col], axis=1, inplace=True)\n",
    "mrg.drop([\"Unnamed: 0_new1\"], axis=1, inplace=True)\n",
    "\n",
    "new_col_names = {}\n",
    "for col_name in mrg.columns:\n",
    "    if \"_new1\" in col_name:\n",
    "        new_col_names[col_name] = col_name.replace(\"_new1\", \"\")\n",
    "    else:\n",
    "        new_col_names[col_name] = col_name\n",
    "\n",
    "mrg.rename(columns=new_col_names, inplace=True)\n",
    "mrg.to_csv(\"out_merge_all.tsv\", index=False, sep=\"\\t\")\n",
    "mrg.shape"
   ]
  },
  {
   "cell_type": "code",
   "execution_count": 95,
   "metadata": {},
   "outputs": [
    {
     "name": "stderr",
     "output_type": "stream",
     "text": [
      "C:\\Users\\dpi30\\AppData\\Local\\Temp\\2\\ipykernel_1660\\2001277780.py:4: DtypeWarning: Columns (10,15,16) have mixed types. Specify dtype option on import or set low_memory=False.\n",
      "  df = pd.read_csv(\"./cached_files/rps_pull.csv\")\n"
     ]
    },
    {
     "data": {
      "text/html": [
       "<div>\n",
       "<style scoped>\n",
       "    .dataframe tbody tr th:only-of-type {\n",
       "        vertical-align: middle;\n",
       "    }\n",
       "\n",
       "    .dataframe tbody tr th {\n",
       "        vertical-align: top;\n",
       "    }\n",
       "\n",
       "    .dataframe thead th {\n",
       "        text-align: right;\n",
       "    }\n",
       "</style>\n",
       "<table border=\"1\" class=\"dataframe\">\n",
       "  <thead>\n",
       "    <tr style=\"text-align: right;\">\n",
       "      <th></th>\n",
       "      <th>swis</th>\n",
       "      <th>section</th>\n",
       "      <th>sub_section</th>\n",
       "      <th>block</th>\n",
       "      <th>lot</th>\n",
       "      <th>sub_lot</th>\n",
       "      <th>suffix</th>\n",
       "      <th>print_key</th>\n",
       "      <th>grid_east</th>\n",
       "      <th>grid_north</th>\n",
       "      <th>...</th>\n",
       "      <th>own_unit_nbr</th>\n",
       "      <th>owner_addl_addr</th>\n",
       "      <th>desig_status</th>\n",
       "      <th>owner_typ</th>\n",
       "      <th>pa_owner_id</th>\n",
       "      <th>pa_owner_first_name</th>\n",
       "      <th>pa_owner_init_name</th>\n",
       "      <th>pa_owner_last_name</th>\n",
       "      <th>pa_owner_name_suffix</th>\n",
       "      <th>own_code.1</th>\n",
       "    </tr>\n",
       "  </thead>\n",
       "  <tbody>\n",
       "    <tr>\n",
       "      <th>45858</th>\n",
       "      <td>311500</td>\n",
       "      <td>777</td>\n",
       "      <td>0</td>\n",
       "      <td>1</td>\n",
       "      <td>27</td>\n",
       "      <td>0</td>\n",
       "      <td>0</td>\n",
       "      <td>777.-01-27.0</td>\n",
       "      <td>0</td>\n",
       "      <td>0</td>\n",
       "      <td>...</td>\n",
       "      <td>C910</td>\n",
       "      <td>NaN</td>\n",
       "      <td>NaN</td>\n",
       "      <td>A</td>\n",
       "      <td>345692</td>\n",
       "      <td>NaN</td>\n",
       "      <td>NaN</td>\n",
       "      <td>Erie Lackawana</td>\n",
       "      <td>NaN</td>\n",
       "      <td>NaN</td>\n",
       "    </tr>\n",
       "    <tr>\n",
       "      <th>45859</th>\n",
       "      <td>311500</td>\n",
       "      <td>777</td>\n",
       "      <td>0</td>\n",
       "      <td>1</td>\n",
       "      <td>28</td>\n",
       "      <td>0</td>\n",
       "      <td>0</td>\n",
       "      <td>777.-01-28.0</td>\n",
       "      <td>0</td>\n",
       "      <td>0</td>\n",
       "      <td>...</td>\n",
       "      <td>C910</td>\n",
       "      <td>NaN</td>\n",
       "      <td>NaN</td>\n",
       "      <td>A</td>\n",
       "      <td>345694</td>\n",
       "      <td>NaN</td>\n",
       "      <td>NaN</td>\n",
       "      <td>Erie Lackawana</td>\n",
       "      <td>NaN</td>\n",
       "      <td>NaN</td>\n",
       "    </tr>\n",
       "  </tbody>\n",
       "</table>\n",
       "<p>2 rows × 58 columns</p>\n",
       "</div>"
      ],
      "text/plain": [
       "         swis  section  sub_section  block  lot  sub_lot  suffix  \\\n",
       "45858  311500      777            0      1   27        0       0   \n",
       "45859  311500      777            0      1   28        0       0   \n",
       "\n",
       "          print_key  grid_east  grid_north  ... own_unit_nbr owner_addl_addr  \\\n",
       "45858  777.-01-27.0          0           0  ...         C910             NaN   \n",
       "45859  777.-01-28.0          0           0  ...         C910             NaN   \n",
       "\n",
       "      desig_status owner_typ pa_owner_id pa_owner_first_name  \\\n",
       "45858          NaN         A      345692                 NaN   \n",
       "45859          NaN         A      345694                 NaN   \n",
       "\n",
       "      pa_owner_init_name pa_owner_last_name  pa_owner_name_suffix  own_code.1  \n",
       "45858                NaN     Erie Lackawana                   NaN         NaN  \n",
       "45859                NaN     Erie Lackawana                   NaN         NaN  \n",
       "\n",
       "[2 rows x 58 columns]"
      ]
     },
     "execution_count": 95,
     "metadata": {},
     "output_type": "execute_result"
    }
   ],
   "source": [
    "df = pd.read_csv(\"./cached_files/rps_pull.csv\")\n",
    "df[df['loc_st_name'] == \"Emerson Ave Rear\"]"
   ]
  }
 ],
 "metadata": {
  "kernelspec": {
   "display_name": "Python 3.11.0 ('venv': venv)",
   "language": "python",
   "name": "python3"
  },
  "language_info": {
   "codemirror_mode": {
    "name": "ipython",
    "version": 3
   },
   "file_extension": ".py",
   "mimetype": "text/x-python",
   "name": "python",
   "nbconvert_exporter": "python",
   "pygments_lexer": "ipython3",
   "version": "3.11.0"
  },
  "orig_nbformat": 4,
  "vscode": {
   "interpreter": {
    "hash": "b330dbabad49745fdfcbf4627df2c05517229a3c7085f63aaef8d7aba4685f8a"
   }
  }
 },
 "nbformat": 4,
 "nbformat_minor": 2
}
